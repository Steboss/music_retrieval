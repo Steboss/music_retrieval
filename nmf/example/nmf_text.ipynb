{
 "cells": [
  {
   "cell_type": "code",
   "execution_count": 1,
   "metadata": {},
   "outputs": [],
   "source": [
    "!rm nmf.cpython*\n",
    "!ln -s ../installer/nmf.cpython-36m-x86_64-linux-gnu.so  nmf.cpython-36m-x86_64-linux-gnu.so\n"
   ]
  },
  {
   "cell_type": "code",
   "execution_count": null,
   "metadata": {},
   "outputs": [],
   "source": [
    "import nmf"
   ]
  },
  {
   "cell_type": "code",
   "execution_count": 3,
   "metadata": {},
   "outputs": [],
   "source": [
    "import pandas as pd;\n",
    "import numpy as np;\n",
    "import scipy as sp;\n",
    "import sklearn;\n",
    "import sys;\n",
    "from nltk.corpus import stopwords;\n",
    "import nltk;\n",
    "from gensim.models import ldamodel\n",
    "import gensim.corpora;\n",
    "from sklearn.feature_extraction.text import CountVectorizer, TfidfTransformer;\n",
    "#from sklearn.decomposition import NMF;\n",
    "from sklearn.preprocessing import normalize;\n",
    "import pickle;"
   ]
  },
  {
   "cell_type": "markdown",
   "metadata": {},
   "source": [
    " ### Read in all the headlines"
   ]
  },
  {
   "cell_type": "code",
   "execution_count": 59,
   "metadata": {},
   "outputs": [
    {
     "name": "stdout",
     "output_type": "stream",
     "text": [
      "(1186018, 2)\n"
     ]
    }
   ],
   "source": [
    "data = pd.read_csv('archive/abcnews-date-text.csv', error_bad_lines=False)\n",
    "print(data.shape)\n",
    "# We only need the Headlines text column from the data\n",
    "data_text = data[['headline_text']][0:10000]"
   ]
  },
  {
   "cell_type": "code",
   "execution_count": 60,
   "metadata": {},
   "outputs": [
    {
     "data": {
      "text/plain": [
       "(10000, 1)"
      ]
     },
     "execution_count": 60,
     "metadata": {},
     "output_type": "execute_result"
    }
   ],
   "source": [
    "data_text.shape"
   ]
  },
  {
   "cell_type": "markdown",
   "metadata": {},
   "source": [
    "### Create train and test data"
   ]
  },
  {
   "cell_type": "code",
   "execution_count": 61,
   "metadata": {},
   "outputs": [],
   "source": [
    "#remove stopwords\n",
    "STOPWORDS = set(stopwords.words('english'))\n",
    "def remove_stopwords(text):\n",
    "    \"\"\"custom function to remove the stopwords\"\"\"\n",
    "    return \" \".join([word for word in str(text).split() if word not in STOPWORDS])\n",
    "\n",
    "data_text.loc[:,\"headline_text\"]  = data_text[\"headline_text\"].apply(lambda text: remove_stopwords(text))"
   ]
  },
  {
   "cell_type": "code",
   "execution_count": 63,
   "metadata": {},
   "outputs": [],
   "source": [
    "vectorizer = CountVectorizer(analyzer='word', max_features=5000)\n",
    "x_counts = vectorizer.fit_transform(data_text[\"headline_text\"].to_numpy())"
   ]
  },
  {
   "cell_type": "code",
   "execution_count": 64,
   "metadata": {},
   "outputs": [],
   "source": [
    "transformer = TfidfTransformer(smooth_idf=False);\n",
    "x_tfidf = transformer.fit_transform(x_counts);"
   ]
  },
  {
   "cell_type": "code",
   "execution_count": 65,
   "metadata": {},
   "outputs": [],
   "source": [
    "xtfidf_norm = normalize(x_tfidf, norm='l1', axis=1)"
   ]
  },
  {
   "cell_type": "code",
   "execution_count": 66,
   "metadata": {},
   "outputs": [],
   "source": [
    "# TODO: add a csr reader in python to deal with extremely big data\n",
    "xtfidf_norm = xtfidf_norm.toarray()"
   ]
  },
  {
   "cell_type": "markdown",
   "metadata": {},
   "source": [
    "### Perform the NMF training to compute W and H"
   ]
  },
  {
   "cell_type": "code",
   "execution_count": 67,
   "metadata": {},
   "outputs": [
    {
     "name": "stdout",
     "output_type": "stream",
     "text": [
      "Conversion of X into memoryview\n",
      "Creating W array with 100000 elements\n",
      "Creating H array with 50000 elements\n",
      "Calling C\n",
      "CPU times: user 8min 41s, sys: 5.1 s, total: 8min 46s\n",
      "Wall time: 8min 38s\n"
     ]
    }
   ],
   "source": [
    "%%time \n",
    "W, H = nmf.play(xtfidf_norm, 10, 1000000, 42, 0 )"
   ]
  },
  {
   "cell_type": "markdown",
   "metadata": {},
   "source": [
    "### Obtain the 10 topics "
   ]
  },
  {
   "cell_type": "code",
   "execution_count": 68,
   "metadata": {},
   "outputs": [
    {
     "data": {
      "text/html": [
       "<div>\n",
       "<style scoped>\n",
       "    .dataframe tbody tr th:only-of-type {\n",
       "        vertical-align: middle;\n",
       "    }\n",
       "\n",
       "    .dataframe tbody tr th {\n",
       "        vertical-align: top;\n",
       "    }\n",
       "\n",
       "    .dataframe thead th {\n",
       "        text-align: right;\n",
       "    }\n",
       "</style>\n",
       "<table border=\"1\" class=\"dataframe\">\n",
       "  <thead>\n",
       "    <tr style=\"text-align: right;\">\n",
       "      <th></th>\n",
       "      <th>Topic # 01</th>\n",
       "      <th>Topic # 02</th>\n",
       "      <th>Topic # 03</th>\n",
       "      <th>Topic # 04</th>\n",
       "      <th>Topic # 05</th>\n",
       "      <th>Topic # 06</th>\n",
       "      <th>Topic # 07</th>\n",
       "      <th>Topic # 08</th>\n",
       "      <th>Topic # 09</th>\n",
       "      <th>Topic # 10</th>\n",
       "    </tr>\n",
       "  </thead>\n",
       "  <tbody>\n",
       "    <tr>\n",
       "      <th>0</th>\n",
       "      <td>us</td>\n",
       "      <td>man</td>\n",
       "      <td>police</td>\n",
       "      <td>world</td>\n",
       "      <td>baghdad</td>\n",
       "      <td>govt</td>\n",
       "      <td>iraq</td>\n",
       "      <td>war</td>\n",
       "      <td>council</td>\n",
       "      <td>new</td>\n",
       "    </tr>\n",
       "    <tr>\n",
       "      <th>1</th>\n",
       "      <td>troops</td>\n",
       "      <td>charged</td>\n",
       "      <td>probe</td>\n",
       "      <td>cup</td>\n",
       "      <td>explosions</td>\n",
       "      <td>nsw</td>\n",
       "      <td>says</td>\n",
       "      <td>anti</td>\n",
       "      <td>water</td>\n",
       "      <td>resolution</td>\n",
       "    </tr>\n",
       "    <tr>\n",
       "      <th>2</th>\n",
       "      <td>iraqi</td>\n",
       "      <td>court</td>\n",
       "      <td>death</td>\n",
       "      <td>australia</td>\n",
       "      <td>rock</td>\n",
       "      <td>vic</td>\n",
       "      <td>un</td>\n",
       "      <td>protest</td>\n",
       "      <td>rain</td>\n",
       "      <td>un</td>\n",
       "    </tr>\n",
       "    <tr>\n",
       "      <th>3</th>\n",
       "      <td>turkey</td>\n",
       "      <td>murder</td>\n",
       "      <td>search</td>\n",
       "      <td>win</td>\n",
       "      <td>blasts</td>\n",
       "      <td>fire</td>\n",
       "      <td>bush</td>\n",
       "      <td>protesters</td>\n",
       "      <td>plan</td>\n",
       "      <td>ceo</td>\n",
       "    </tr>\n",
       "    <tr>\n",
       "      <th>4</th>\n",
       "      <td>forces</td>\n",
       "      <td>stabbing</td>\n",
       "      <td>investigate</td>\n",
       "      <td>takes</td>\n",
       "      <td>iraqi</td>\n",
       "      <td>qld</td>\n",
       "      <td>pm</td>\n",
       "      <td>howard</td>\n",
       "      <td>restrictions</td>\n",
       "      <td>zealand</td>\n",
       "    </tr>\n",
       "    <tr>\n",
       "      <th>5</th>\n",
       "      <td>korea</td>\n",
       "      <td>face</td>\n",
       "      <td>missing</td>\n",
       "      <td>final</td>\n",
       "      <td>raids</td>\n",
       "      <td>urged</td>\n",
       "      <td>missiles</td>\n",
       "      <td>protests</td>\n",
       "      <td>security</td>\n",
       "      <td>launched</td>\n",
       "    </tr>\n",
       "    <tr>\n",
       "      <th>6</th>\n",
       "      <td>killed</td>\n",
       "      <td>hospital</td>\n",
       "      <td>fatal</td>\n",
       "      <td>claims</td>\n",
       "      <td>missing</td>\n",
       "      <td>sa</td>\n",
       "      <td>howard</td>\n",
       "      <td>rally</td>\n",
       "      <td>may</td>\n",
       "      <td>high</td>\n",
       "    </tr>\n",
       "    <tr>\n",
       "      <th>7</th>\n",
       "      <td>military</td>\n",
       "      <td>dies</td>\n",
       "      <td>car</td>\n",
       "      <td>england</td>\n",
       "      <td>coalition</td>\n",
       "      <td>hospital</td>\n",
       "      <td>set</td>\n",
       "      <td>pm</td>\n",
       "      <td>funds</td>\n",
       "      <td>home</td>\n",
       "    </tr>\n",
       "    <tr>\n",
       "      <th>8</th>\n",
       "      <td>north</td>\n",
       "      <td>charge</td>\n",
       "      <td>crash</td>\n",
       "      <td>championship</td>\n",
       "      <td>tanks</td>\n",
       "      <td>wa</td>\n",
       "      <td>blair</td>\n",
       "      <td>students</td>\n",
       "      <td>farmers</td>\n",
       "      <td>work</td>\n",
       "    </tr>\n",
       "    <tr>\n",
       "      <th>9</th>\n",
       "      <td>fire</td>\n",
       "      <td>jailed</td>\n",
       "      <td>station</td>\n",
       "      <td>miss</td>\n",
       "      <td>forces</td>\n",
       "      <td>nt</td>\n",
       "      <td>resolution</td>\n",
       "      <td>march</td>\n",
       "      <td>boost</td>\n",
       "      <td>president</td>\n",
       "    </tr>\n",
       "    <tr>\n",
       "      <th>10</th>\n",
       "      <td>attack</td>\n",
       "      <td>missing</td>\n",
       "      <td>call</td>\n",
       "      <td>victory</td>\n",
       "      <td>air</td>\n",
       "      <td>drought</td>\n",
       "      <td>british</td>\n",
       "      <td>thousands</td>\n",
       "      <td>welcomes</td>\n",
       "      <td>system</td>\n",
       "    </tr>\n",
       "    <tr>\n",
       "      <th>11</th>\n",
       "      <td>marines</td>\n",
       "      <td>woman</td>\n",
       "      <td>stabbing</td>\n",
       "      <td>warne</td>\n",
       "      <td>rain</td>\n",
       "      <td>rejects</td>\n",
       "      <td>denies</td>\n",
       "      <td>melbourne</td>\n",
       "      <td>call</td>\n",
       "      <td>hits</td>\n",
       "    </tr>\n",
       "    <tr>\n",
       "      <th>12</th>\n",
       "      <td>soldiers</td>\n",
       "      <td>attack</td>\n",
       "      <td>cannabis</td>\n",
       "      <td>first</td>\n",
       "      <td>fresh</td>\n",
       "      <td>claims</td>\n",
       "      <td>case</td>\n",
       "      <td>plan</td>\n",
       "      <td>land</td>\n",
       "      <td>china</td>\n",
       "    </tr>\n",
       "    <tr>\n",
       "      <th>13</th>\n",
       "      <td>saddam</td>\n",
       "      <td>car</td>\n",
       "      <td>shooting</td>\n",
       "      <td>project</td>\n",
       "      <td>central</td>\n",
       "      <td>back</td>\n",
       "      <td>aid</td>\n",
       "      <td>rallies</td>\n",
       "      <td>elections</td>\n",
       "      <td>hopes</td>\n",
       "    </tr>\n",
       "    <tr>\n",
       "      <th>14</th>\n",
       "      <td>helicopter</td>\n",
       "      <td>crash</td>\n",
       "      <td>victim</td>\n",
       "      <td>wins</td>\n",
       "      <td>strike</td>\n",
       "      <td>health</td>\n",
       "      <td>post</td>\n",
       "      <td>post</td>\n",
       "      <td>plans</td>\n",
       "      <td>get</td>\n",
       "    </tr>\n",
       "    <tr>\n",
       "      <th>15</th>\n",
       "      <td>says</td>\n",
       "      <td>faces</td>\n",
       "      <td>name</td>\n",
       "      <td>semis</td>\n",
       "      <td>reports</td>\n",
       "      <td>bushfire</td>\n",
       "      <td>kuwait</td>\n",
       "      <td>sydney</td>\n",
       "      <td>seeks</td>\n",
       "      <td>bendigo</td>\n",
       "    </tr>\n",
       "    <tr>\n",
       "      <th>16</th>\n",
       "      <td>move</td>\n",
       "      <td>accident</td>\n",
       "      <td>suspicious</td>\n",
       "      <td>may</td>\n",
       "      <td>bombing</td>\n",
       "      <td>farmers</td>\n",
       "      <td>leave</td>\n",
       "      <td>continue</td>\n",
       "      <td>rules</td>\n",
       "      <td>takes</td>\n",
       "    </tr>\n",
       "    <tr>\n",
       "      <th>17</th>\n",
       "      <td>talks</td>\n",
       "      <td>assault</td>\n",
       "      <td>road</td>\n",
       "      <td>title</td>\n",
       "      <td>report</td>\n",
       "      <td>opp</td>\n",
       "      <td>aust</td>\n",
       "      <td>parliament</td>\n",
       "      <td>concerns</td>\n",
       "      <td>look</td>\n",
       "    </tr>\n",
       "    <tr>\n",
       "      <th>18</th>\n",
       "      <td>soldier</td>\n",
       "      <td>charges</td>\n",
       "      <td>drug</td>\n",
       "      <td>clash</td>\n",
       "      <td>missiles</td>\n",
       "      <td>public</td>\n",
       "      <td>warns</td>\n",
       "      <td>iraqis</td>\n",
       "      <td>residents</td>\n",
       "      <td>support</td>\n",
       "    </tr>\n",
       "    <tr>\n",
       "      <th>19</th>\n",
       "      <td>claims</td>\n",
       "      <td>accused</td>\n",
       "      <td>wa</td>\n",
       "      <td>championships</td>\n",
       "      <td>continues</td>\n",
       "      <td>defends</td>\n",
       "      <td>must</td>\n",
       "      <td>unions</td>\n",
       "      <td>lake</td>\n",
       "      <td>dollar</td>\n",
       "    </tr>\n",
       "  </tbody>\n",
       "</table>\n",
       "</div>"
      ],
      "text/plain": [
       "    Topic # 01 Topic # 02   Topic # 03     Topic # 04  Topic # 05 Topic # 06  \\\n",
       "0           us        man       police          world     baghdad       govt   \n",
       "1       troops    charged        probe            cup  explosions        nsw   \n",
       "2        iraqi      court        death      australia        rock        vic   \n",
       "3       turkey     murder       search            win      blasts       fire   \n",
       "4       forces   stabbing  investigate          takes       iraqi        qld   \n",
       "5        korea       face      missing          final       raids      urged   \n",
       "6       killed   hospital        fatal         claims     missing         sa   \n",
       "7     military       dies          car        england   coalition   hospital   \n",
       "8        north     charge        crash   championship       tanks         wa   \n",
       "9         fire     jailed      station           miss      forces         nt   \n",
       "10      attack    missing         call        victory         air    drought   \n",
       "11     marines      woman     stabbing          warne        rain    rejects   \n",
       "12    soldiers     attack     cannabis          first       fresh     claims   \n",
       "13      saddam        car     shooting        project     central       back   \n",
       "14  helicopter      crash       victim           wins      strike     health   \n",
       "15        says      faces         name          semis     reports   bushfire   \n",
       "16        move   accident   suspicious            may     bombing    farmers   \n",
       "17       talks    assault         road          title      report        opp   \n",
       "18     soldier    charges         drug          clash    missiles     public   \n",
       "19      claims    accused           wa  championships   continues    defends   \n",
       "\n",
       "    Topic # 07  Topic # 08    Topic # 09  Topic # 10  \n",
       "0         iraq         war       council         new  \n",
       "1         says        anti         water  resolution  \n",
       "2           un     protest          rain          un  \n",
       "3         bush  protesters          plan         ceo  \n",
       "4           pm      howard  restrictions     zealand  \n",
       "5     missiles    protests      security    launched  \n",
       "6       howard       rally           may        high  \n",
       "7          set          pm         funds        home  \n",
       "8        blair    students       farmers        work  \n",
       "9   resolution       march         boost   president  \n",
       "10     british   thousands      welcomes      system  \n",
       "11      denies   melbourne          call        hits  \n",
       "12        case        plan          land       china  \n",
       "13         aid     rallies     elections       hopes  \n",
       "14        post        post         plans         get  \n",
       "15      kuwait      sydney         seeks     bendigo  \n",
       "16       leave    continue         rules       takes  \n",
       "17        aust  parliament      concerns        look  \n",
       "18       warns      iraqis     residents     support  \n",
       "19        must      unions          lake      dollar  "
      ]
     },
     "execution_count": 68,
     "metadata": {},
     "output_type": "execute_result"
    }
   ],
   "source": [
    "def get_nmf_topics(W, H, vectorizer, num_topics, n_top_words):\n",
    "    #the word ids obtained need to be reverse-mapped to the words so we can print the topic names.\n",
    "    feat_names = vectorizer.get_feature_names()\n",
    "    \n",
    "    word_dict = {};\n",
    "    for i in range(num_topics):\n",
    "        #for each topic, obtain the largest values, and add the words they map to into the dictionary.\n",
    "        words_ids = H[i,:].argsort()[:-20 - 1:-1] # select the i-th row, which is the i-th component\n",
    "        words = [feat_names[key] for key in words_ids]\n",
    "        word_dict['Topic # ' + '{:02d}'.format(i+1)] = words;\n",
    "    \n",
    "    return pd.DataFrame(word_dict);\n",
    "\n",
    "get_nmf_topics(W, H, vectorizer, 10, 20)"
   ]
  },
  {
   "cell_type": "markdown",
   "metadata": {},
   "source": [
    "### Print out some examples for a topic"
   ]
  },
  {
   "cell_type": "code",
   "execution_count": 80,
   "metadata": {},
   "outputs": [
    {
     "name": "stdout",
     "output_type": "stream",
     "text": [
      "428\n",
      "440\n",
      "1446\n",
      "4789\n",
      "5719\n",
      "6376\n",
      "6565\n",
      "6785\n",
      "7017\n",
      "7874\n",
      "7927\n",
      "9015\n",
      "9016\n",
      "9439\n",
      "9604\n",
      "9623\n"
     ]
    }
   ],
   "source": [
    "# Topic 0 \n",
    "for i, val in enumerate(W[:,0],  0):\n",
    "    if val >0.10: # this is a treshold value that can be computed from W[:,0].max()\n",
    "        print(i)"
   ]
  },
  {
   "cell_type": "code",
   "execution_count": 102,
   "metadata": {},
   "outputs": [
    {
     "data": {
      "text/plain": [
       "'turkey reconsidering disallowing us troops'"
      ]
     },
     "execution_count": 102,
     "metadata": {},
     "output_type": "execute_result"
    }
   ],
   "source": [
    "data.iloc[5719][\"headline_text\"]"
   ]
  },
  {
   "cell_type": "code",
   "execution_count": 98,
   "metadata": {},
   "outputs": [
    {
     "name": "stdout",
     "output_type": "stream",
     "text": [
      "404\n",
      "2932\n",
      "4136\n",
      "4608\n",
      "6609\n",
      "6762\n",
      "6813\n",
      "7263\n",
      "9873\n"
     ]
    }
   ],
   "source": [
    "# Topic 4\n",
    "for i, val in enumerate(W[:,3],  0):\n",
    "    if val >0.15:\n",
    "        print(i)"
   ]
  },
  {
   "cell_type": "code",
   "execution_count": 103,
   "metadata": {},
   "outputs": [
    {
     "data": {
      "text/plain": [
       "'socceroos creep up world rankings'"
      ]
     },
     "execution_count": 103,
     "metadata": {},
     "output_type": "execute_result"
    }
   ],
   "source": [
    "data.iloc[404][\"headline_text\"]"
   ]
  },
  {
   "cell_type": "code",
   "execution_count": 104,
   "metadata": {},
   "outputs": [
    {
     "data": {
      "text/plain": [
       "'suspension stomps on flavells world cup bid'"
      ]
     },
     "execution_count": 104,
     "metadata": {},
     "output_type": "execute_result"
    }
   ],
   "source": [
    "data.iloc[2932][\"headline_text\"]"
   ]
  },
  {
   "cell_type": "code",
   "execution_count": 88,
   "metadata": {},
   "outputs": [
    {
     "name": "stdout",
     "output_type": "stream",
     "text": [
      "1902\n",
      "5723\n",
      "6188\n",
      "6415\n",
      "6456\n",
      "6505\n",
      "6602\n",
      "6614\n",
      "6622\n",
      "6714\n",
      "6863\n",
      "7095\n",
      "7513\n",
      "7628\n",
      "7629\n",
      "7963\n",
      "9519\n",
      "9621\n",
      "9622\n"
     ]
    }
   ],
   "source": [
    "# Topic 5 \n",
    "for i, val in enumerate(W[:,4],  0):\n",
    "    if val >0.15:\n",
    "        print(i)"
   ]
  },
  {
   "cell_type": "code",
   "execution_count": 105,
   "metadata": {},
   "outputs": [
    {
     "data": {
      "text/plain": [
       "'explosions heard in baghdad'"
      ]
     },
     "execution_count": 105,
     "metadata": {},
     "output_type": "execute_result"
    }
   ],
   "source": [
    "data.iloc[7095][\"headline_text\"]"
   ]
  },
  {
   "cell_type": "code",
   "execution_count": null,
   "metadata": {},
   "outputs": [],
   "source": []
  }
 ],
 "metadata": {
  "kernelspec": {
   "display_name": "Python 3",
   "language": "python",
   "name": "python3"
  },
  "language_info": {
   "codemirror_mode": {
    "name": "ipython",
    "version": 3
   },
   "file_extension": ".py",
   "mimetype": "text/x-python",
   "name": "python",
   "nbconvert_exporter": "python",
   "pygments_lexer": "ipython3",
   "version": "3.6.9"
  }
 },
 "nbformat": 4,
 "nbformat_minor": 2
}
